{
 "cells": [
  {
   "cell_type": "markdown",
   "id": "2ab14e4e-410e-4b62-937f-84361ff6e761",
   "metadata": {},
   "source": [
    "# Title"
   ]
  },
  {
   "cell_type": "markdown",
   "id": "97e3a061-71ba-4da4-8ae4-a8c8854e85c2",
   "metadata": {},
   "source": [
    "## Introduction"
   ]
  },
  {
   "cell_type": "markdown",
   "id": "d82915ad-e034-4a9b-8787-5309dd6b6ad5",
   "metadata": {},
   "source": [
    "!!! INTRO"
   ]
  },
  {
   "cell_type": "markdown",
   "id": "4d082804-fd87-4fbf-89e6-dc5cb01be053",
   "metadata": {},
   "source": [
    "### Required packages"
   ]
  },
  {
   "cell_type": "code",
   "execution_count": null,
   "id": "07b30b66-fc40-4ba5-9335-28b159d46eda",
   "metadata": {
    "tags": []
   },
   "outputs": [],
   "source": [
    "import pandas as pd\n",
    "import numpy as np\n",
    "import altair as alt\n",
    "import math\n",
    "import matplotlib.pyplot as plt\n",
    "%matplotlib inline\n",
    "# import seaborn as sns\n",
    "# import datetime as dt\n",
    "# from datetime import datetime    \n",
    "# sns.set_style(\"whitegrid\")\n",
    "# from pandas.plotting import autocorrelation_plot\n",
    "# plt.style.use(\"ggplot\")"
   ]
  },
  {
   "cell_type": "markdown",
   "id": "6b8fe828-84d3-4f59-a689-5f2b66521948",
   "metadata": {},
   "source": [
    "## Explorator Data Analysis"
   ]
  },
  {
   "cell_type": "code",
   "execution_count": null,
   "id": "dc4c9b3b-e3a1-4c61-92ef-cfe1087a10b3",
   "metadata": {},
   "outputs": [],
   "source": []
  }
 ],
 "metadata": {
  "kernelspec": {
   "display_name": "Python 3 (ipykernel)",
   "language": "python",
   "name": "python3"
  },
  "language_info": {
   "codemirror_mode": {
    "name": "ipython",
    "version": 3
   },
   "file_extension": ".py",
   "mimetype": "text/x-python",
   "name": "python",
   "nbconvert_exporter": "python",
   "pygments_lexer": "ipython3",
   "version": "3.10.9"
  }
 },
 "nbformat": 4,
 "nbformat_minor": 5
}
